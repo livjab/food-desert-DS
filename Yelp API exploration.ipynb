{
 "cells": [
  {
   "cell_type": "code",
   "execution_count": 1,
   "metadata": {},
   "outputs": [],
   "source": [
    "import requests\n",
    "import json"
   ]
  },
  {
   "cell_type": "code",
   "execution_count": 27,
   "metadata": {},
   "outputs": [],
   "source": [
    "import pandas as pd"
   ]
  },
  {
   "cell_type": "code",
   "execution_count": 60,
   "metadata": {},
   "outputs": [],
   "source": [
    "api_key='HppuY1u1yDpIHG43VQ1RcSEoqbrhL6ElG9Vr17rg6yZDWCUnnE45VUgExOUClUNnrlVecP9KTplqvO2C2iKE4bjCodnkvSxlTozFddkrz4wHHXi0ZGQSFddVFA0RXXYx'\n",
    "headers = {'Authorization': 'Bearer %s' % api_key}"
   ]
  },
  {
   "cell_type": "code",
   "execution_count": 61,
   "metadata": {},
   "outputs": [],
   "source": [
    "url='https://api.yelp.com/v3/businesses/search'\n",
    "params = {'limit': 50,'term':'grocery', 'location':'Los Angeles'}"
   ]
  },
  {
   "cell_type": "code",
   "execution_count": 62,
   "metadata": {},
   "outputs": [],
   "source": [
    "req = requests.get(url, params=params, headers=headers)"
   ]
  },
  {
   "cell_type": "code",
   "execution_count": 63,
   "metadata": {},
   "outputs": [],
   "source": [
    " parsed = json.loads(req.text)"
   ]
  },
  {
   "cell_type": "code",
   "execution_count": 64,
   "metadata": {},
   "outputs": [
    {
     "data": {
      "text/html": [
       "<div>\n",
       "<style scoped>\n",
       "    .dataframe tbody tr th:only-of-type {\n",
       "        vertical-align: middle;\n",
       "    }\n",
       "\n",
       "    .dataframe tbody tr th {\n",
       "        vertical-align: top;\n",
       "    }\n",
       "\n",
       "    .dataframe thead th {\n",
       "        text-align: right;\n",
       "    }\n",
       "</style>\n",
       "<table border=\"1\" class=\"dataframe\">\n",
       "  <thead>\n",
       "    <tr style=\"text-align: right;\">\n",
       "      <th></th>\n",
       "      <th>alias</th>\n",
       "      <th>categories</th>\n",
       "      <th>coordinates</th>\n",
       "      <th>display_phone</th>\n",
       "      <th>distance</th>\n",
       "      <th>id</th>\n",
       "      <th>image_url</th>\n",
       "      <th>is_closed</th>\n",
       "      <th>location</th>\n",
       "      <th>name</th>\n",
       "      <th>phone</th>\n",
       "      <th>price</th>\n",
       "      <th>rating</th>\n",
       "      <th>review_count</th>\n",
       "      <th>transactions</th>\n",
       "      <th>url</th>\n",
       "    </tr>\n",
       "  </thead>\n",
       "  <tbody>\n",
       "    <tr>\n",
       "      <th>0</th>\n",
       "      <td>galleria-market-los-angeles</td>\n",
       "      <td>[{'alias': 'grocery', 'title': 'Grocery'}, {'a...</td>\n",
       "      <td>{'latitude': 34.052344, 'longitude': -118.308386}</td>\n",
       "      <td>(323) 733-3800</td>\n",
       "      <td>1577.957339</td>\n",
       "      <td>SN_6FWmzEISPbij6TeXEBg</td>\n",
       "      <td>https://s3-media3.fl.yelpcdn.com/bphoto/HC3f8-...</td>\n",
       "      <td>False</td>\n",
       "      <td>{'address1': '3250 W Olympic Blvd', 'address2'...</td>\n",
       "      <td>Galleria Market</td>\n",
       "      <td>+13237333800</td>\n",
       "      <td>$$</td>\n",
       "      <td>4.0</td>\n",
       "      <td>231</td>\n",
       "      <td>[]</td>\n",
       "      <td>https://www.yelp.com/biz/galleria-market-los-a...</td>\n",
       "    </tr>\n",
       "    <tr>\n",
       "      <th>1</th>\n",
       "      <td>trader-joes-los-angeles-13</td>\n",
       "      <td>[{'alias': 'grocery', 'title': 'Grocery'}]</td>\n",
       "      <td>{'latitude': 34.100382, 'longitude': -118.326058}</td>\n",
       "      <td>(323) 856-0689</td>\n",
       "      <td>4334.975742</td>\n",
       "      <td>XSEjnHSnSUJzqjWw9QiYPQ</td>\n",
       "      <td>https://s3-media1.fl.yelpcdn.com/bphoto/9FVti6...</td>\n",
       "      <td>False</td>\n",
       "      <td>{'address1': '1600 N Vine St', 'address2': '',...</td>\n",
       "      <td>Trader Joe's</td>\n",
       "      <td>+13238560689</td>\n",
       "      <td>$$</td>\n",
       "      <td>3.5</td>\n",
       "      <td>289</td>\n",
       "      <td>[]</td>\n",
       "      <td>https://www.yelp.com/biz/trader-joes-los-angel...</td>\n",
       "    </tr>\n",
       "    <tr>\n",
       "      <th>2</th>\n",
       "      <td>hankook-supermarket-los-angeles</td>\n",
       "      <td>[{'alias': 'grocery', 'title': 'Grocery'}, {'a...</td>\n",
       "      <td>{'latitude': 34.074117, 'longitude': -118.308917}</td>\n",
       "      <td>(323) 469-8934</td>\n",
       "      <td>1805.104272</td>\n",
       "      <td>XtQjD5EJOLLXV8NjxNkQAQ</td>\n",
       "      <td>https://s3-media2.fl.yelpcdn.com/bphoto/XXQVoM...</td>\n",
       "      <td>False</td>\n",
       "      <td>{'address1': '124 North Western Ave', 'address...</td>\n",
       "      <td>HanKook Supermarket</td>\n",
       "      <td>+13234698934</td>\n",
       "      <td>$$</td>\n",
       "      <td>4.0</td>\n",
       "      <td>193</td>\n",
       "      <td>[]</td>\n",
       "      <td>https://www.yelp.com/biz/hankook-supermarket-l...</td>\n",
       "    </tr>\n",
       "    <tr>\n",
       "      <th>3</th>\n",
       "      <td>ralphs-los-angeles-34</td>\n",
       "      <td>[{'alias': 'grocery', 'title': 'Grocery'}]</td>\n",
       "      <td>{'latitude': 34.0985147558951, 'longitude': -1...</td>\n",
       "      <td>(323) 512-8382</td>\n",
       "      <td>4802.976511</td>\n",
       "      <td>hPYZ6ENqgBabqTQEwrCqvQ</td>\n",
       "      <td>https://s3-media2.fl.yelpcdn.com/bphoto/-k7EdX...</td>\n",
       "      <td>False</td>\n",
       "      <td>{'address1': '7257 W Sunset Blvd', 'address2':...</td>\n",
       "      <td>Ralphs</td>\n",
       "      <td>+13235128382</td>\n",
       "      <td>$$</td>\n",
       "      <td>3.0</td>\n",
       "      <td>248</td>\n",
       "      <td>[]</td>\n",
       "      <td>https://www.yelp.com/biz/ralphs-los-angeles-34...</td>\n",
       "    </tr>\n",
       "    <tr>\n",
       "      <th>4</th>\n",
       "      <td>ralphs-los-angeles-36</td>\n",
       "      <td>[{'alias': 'grocery', 'title': 'Grocery'}]</td>\n",
       "      <td>{'latitude': 34.0456704953933, 'longitude': -1...</td>\n",
       "      <td>(213) 452-0840</td>\n",
       "      <td>5852.895941</td>\n",
       "      <td>PWiYf7ctj4khcSHrLw7VmA</td>\n",
       "      <td>https://s3-media3.fl.yelpcdn.com/bphoto/ypkKwO...</td>\n",
       "      <td>False</td>\n",
       "      <td>{'address1': '645 W 9th St', 'address2': '', '...</td>\n",
       "      <td>Ralphs</td>\n",
       "      <td>+12134520840</td>\n",
       "      <td>$$</td>\n",
       "      <td>3.5</td>\n",
       "      <td>472</td>\n",
       "      <td>[]</td>\n",
       "      <td>https://www.yelp.com/biz/ralphs-los-angeles-36...</td>\n",
       "    </tr>\n",
       "  </tbody>\n",
       "</table>\n",
       "</div>"
      ],
      "text/plain": [
       "                             alias  \\\n",
       "0      galleria-market-los-angeles   \n",
       "1       trader-joes-los-angeles-13   \n",
       "2  hankook-supermarket-los-angeles   \n",
       "3            ralphs-los-angeles-34   \n",
       "4            ralphs-los-angeles-36   \n",
       "\n",
       "                                          categories  \\\n",
       "0  [{'alias': 'grocery', 'title': 'Grocery'}, {'a...   \n",
       "1         [{'alias': 'grocery', 'title': 'Grocery'}]   \n",
       "2  [{'alias': 'grocery', 'title': 'Grocery'}, {'a...   \n",
       "3         [{'alias': 'grocery', 'title': 'Grocery'}]   \n",
       "4         [{'alias': 'grocery', 'title': 'Grocery'}]   \n",
       "\n",
       "                                         coordinates   display_phone  \\\n",
       "0  {'latitude': 34.052344, 'longitude': -118.308386}  (323) 733-3800   \n",
       "1  {'latitude': 34.100382, 'longitude': -118.326058}  (323) 856-0689   \n",
       "2  {'latitude': 34.074117, 'longitude': -118.308917}  (323) 469-8934   \n",
       "3  {'latitude': 34.0985147558951, 'longitude': -1...  (323) 512-8382   \n",
       "4  {'latitude': 34.0456704953933, 'longitude': -1...  (213) 452-0840   \n",
       "\n",
       "      distance                      id  \\\n",
       "0  1577.957339  SN_6FWmzEISPbij6TeXEBg   \n",
       "1  4334.975742  XSEjnHSnSUJzqjWw9QiYPQ   \n",
       "2  1805.104272  XtQjD5EJOLLXV8NjxNkQAQ   \n",
       "3  4802.976511  hPYZ6ENqgBabqTQEwrCqvQ   \n",
       "4  5852.895941  PWiYf7ctj4khcSHrLw7VmA   \n",
       "\n",
       "                                           image_url  is_closed  \\\n",
       "0  https://s3-media3.fl.yelpcdn.com/bphoto/HC3f8-...      False   \n",
       "1  https://s3-media1.fl.yelpcdn.com/bphoto/9FVti6...      False   \n",
       "2  https://s3-media2.fl.yelpcdn.com/bphoto/XXQVoM...      False   \n",
       "3  https://s3-media2.fl.yelpcdn.com/bphoto/-k7EdX...      False   \n",
       "4  https://s3-media3.fl.yelpcdn.com/bphoto/ypkKwO...      False   \n",
       "\n",
       "                                            location                 name  \\\n",
       "0  {'address1': '3250 W Olympic Blvd', 'address2'...      Galleria Market   \n",
       "1  {'address1': '1600 N Vine St', 'address2': '',...         Trader Joe's   \n",
       "2  {'address1': '124 North Western Ave', 'address...  HanKook Supermarket   \n",
       "3  {'address1': '7257 W Sunset Blvd', 'address2':...               Ralphs   \n",
       "4  {'address1': '645 W 9th St', 'address2': '', '...               Ralphs   \n",
       "\n",
       "          phone price  rating  review_count transactions  \\\n",
       "0  +13237333800    $$     4.0           231           []   \n",
       "1  +13238560689    $$     3.5           289           []   \n",
       "2  +13234698934    $$     4.0           193           []   \n",
       "3  +13235128382    $$     3.0           248           []   \n",
       "4  +12134520840    $$     3.5           472           []   \n",
       "\n",
       "                                                 url  \n",
       "0  https://www.yelp.com/biz/galleria-market-los-a...  \n",
       "1  https://www.yelp.com/biz/trader-joes-los-angel...  \n",
       "2  https://www.yelp.com/biz/hankook-supermarket-l...  \n",
       "3  https://www.yelp.com/biz/ralphs-los-angeles-34...  \n",
       "4  https://www.yelp.com/biz/ralphs-los-angeles-36...  "
      ]
     },
     "execution_count": 64,
     "metadata": {},
     "output_type": "execute_result"
    }
   ],
   "source": [
    "businesses = parsed[\"businesses\"]\n",
    "    \n",
    "df = pd.DataFrame(businesses)\n",
    "df.head()"
   ]
  },
  {
   "cell_type": "code",
   "execution_count": 66,
   "metadata": {},
   "outputs": [
    {
     "data": {
      "text/html": [
       "<div>\n",
       "<style scoped>\n",
       "    .dataframe tbody tr th:only-of-type {\n",
       "        vertical-align: middle;\n",
       "    }\n",
       "\n",
       "    .dataframe tbody tr th {\n",
       "        vertical-align: top;\n",
       "    }\n",
       "\n",
       "    .dataframe thead th {\n",
       "        text-align: right;\n",
       "    }\n",
       "</style>\n",
       "<table border=\"1\" class=\"dataframe\">\n",
       "  <thead>\n",
       "    <tr style=\"text-align: right;\">\n",
       "      <th></th>\n",
       "      <th>alias</th>\n",
       "      <th>categories</th>\n",
       "      <th>coordinates</th>\n",
       "      <th>display_phone</th>\n",
       "      <th>distance</th>\n",
       "      <th>id</th>\n",
       "      <th>image_url</th>\n",
       "      <th>is_closed</th>\n",
       "      <th>location</th>\n",
       "      <th>name</th>\n",
       "      <th>phone</th>\n",
       "      <th>price</th>\n",
       "      <th>rating</th>\n",
       "      <th>review_count</th>\n",
       "      <th>transactions</th>\n",
       "      <th>url</th>\n",
       "    </tr>\n",
       "  </thead>\n",
       "  <tbody>\n",
       "    <tr>\n",
       "      <th>0</th>\n",
       "      <td>trader-joes-los-angeles-18</td>\n",
       "      <td>[{'alias': 'grocery', 'title': 'Grocery'}]</td>\n",
       "      <td>{'latitude': 34.07117, 'longitude': -118.37702}</td>\n",
       "      <td>(310) 248-2984</td>\n",
       "      <td>5239.199663</td>\n",
       "      <td>P19c5XHvP_PgobUKACdpbg</td>\n",
       "      <td>https://s3-media4.fl.yelpcdn.com/bphoto/ofDWUY...</td>\n",
       "      <td>False</td>\n",
       "      <td>{'address1': '8500 Burton Way', 'address2': ''...</td>\n",
       "      <td>Trader Joe's</td>\n",
       "      <td>+13102482984</td>\n",
       "      <td>$$</td>\n",
       "      <td>4.0</td>\n",
       "      <td>164</td>\n",
       "      <td>[]</td>\n",
       "      <td>https://www.yelp.com/biz/trader-joes-los-angel...</td>\n",
       "    </tr>\n",
       "    <tr>\n",
       "      <th>1</th>\n",
       "      <td>silom-supermarket-los-angeles</td>\n",
       "      <td>[{'alias': 'grocery', 'title': 'Grocery'}, {'a...</td>\n",
       "      <td>{'latitude': 34.1019384211826, 'longitude': -1...</td>\n",
       "      <td>(323) 993-9000</td>\n",
       "      <td>4693.252609</td>\n",
       "      <td>AdtUPmg6q6mjoRIjl9WEsw</td>\n",
       "      <td>https://s3-media4.fl.yelpcdn.com/bphoto/irpNnn...</td>\n",
       "      <td>False</td>\n",
       "      <td>{'address1': '5321 Hollywood Blvd', 'address2'...</td>\n",
       "      <td>Silom Supermarket</td>\n",
       "      <td>+13239939000</td>\n",
       "      <td>$</td>\n",
       "      <td>4.0</td>\n",
       "      <td>99</td>\n",
       "      <td>[]</td>\n",
       "      <td>https://www.yelp.com/biz/silom-supermarket-los...</td>\n",
       "    </tr>\n",
       "    <tr>\n",
       "      <th>2</th>\n",
       "      <td>ralphs-los-angeles-69</td>\n",
       "      <td>[{'alias': 'grocery', 'title': 'Grocery'}, {'a...</td>\n",
       "      <td>{'latitude': 34.06839, 'longitude': -118.290534}</td>\n",
       "      <td>(213) 480-1421</td>\n",
       "      <td>2940.305832</td>\n",
       "      <td>5TB-sI04loixGx57EDHGSA</td>\n",
       "      <td>https://s3-media3.fl.yelpcdn.com/bphoto/ESrMo6...</td>\n",
       "      <td>False</td>\n",
       "      <td>{'address1': '3410 W 3rd St', 'address2': None...</td>\n",
       "      <td>Ralphs</td>\n",
       "      <td>+12134801421</td>\n",
       "      <td>$$</td>\n",
       "      <td>2.5</td>\n",
       "      <td>153</td>\n",
       "      <td>[]</td>\n",
       "      <td>https://www.yelp.com/biz/ralphs-los-angeles-69...</td>\n",
       "    </tr>\n",
       "    <tr>\n",
       "      <th>3</th>\n",
       "      <td>arbat-grocery-los-angeles</td>\n",
       "      <td>[{'alias': 'grocery', 'title': 'Grocery'}]</td>\n",
       "      <td>{'latitude': 34.1019076321175, 'longitude': -1...</td>\n",
       "      <td>(323) 644-5454</td>\n",
       "      <td>4952.330462</td>\n",
       "      <td>z34WgagVeolWviR3WYXaOg</td>\n",
       "      <td>https://s3-media2.fl.yelpcdn.com/bphoto/V-x5DX...</td>\n",
       "      <td>False</td>\n",
       "      <td>{'address1': '5001 Hollywood Blvd', 'address2'...</td>\n",
       "      <td>Arbat Grocery</td>\n",
       "      <td>+13236445454</td>\n",
       "      <td>$</td>\n",
       "      <td>4.5</td>\n",
       "      <td>25</td>\n",
       "      <td>[]</td>\n",
       "      <td>https://www.yelp.com/biz/arbat-grocery-los-ang...</td>\n",
       "    </tr>\n",
       "    <tr>\n",
       "      <th>4</th>\n",
       "      <td>gelsons-market-hollywood</td>\n",
       "      <td>[{'alias': 'grocery', 'title': 'Grocery'}, {'a...</td>\n",
       "      <td>{'latitude': 34.1058, 'longitude': -118.3175}</td>\n",
       "      <td>(323) 464-7316</td>\n",
       "      <td>4939.126114</td>\n",
       "      <td>7jGz5oB7BWmTX2JL7FCqYQ</td>\n",
       "      <td>https://s3-media3.fl.yelpcdn.com/bphoto/7mCV3E...</td>\n",
       "      <td>False</td>\n",
       "      <td>{'address1': '5877 Franklin Ave', 'address2': ...</td>\n",
       "      <td>Gelson's Market</td>\n",
       "      <td>+13234647316</td>\n",
       "      <td>$$$</td>\n",
       "      <td>3.5</td>\n",
       "      <td>211</td>\n",
       "      <td>[]</td>\n",
       "      <td>https://www.yelp.com/biz/gelsons-market-hollyw...</td>\n",
       "    </tr>\n",
       "  </tbody>\n",
       "</table>\n",
       "</div>"
      ],
      "text/plain": [
       "                           alias  \\\n",
       "0     trader-joes-los-angeles-18   \n",
       "1  silom-supermarket-los-angeles   \n",
       "2          ralphs-los-angeles-69   \n",
       "3      arbat-grocery-los-angeles   \n",
       "4       gelsons-market-hollywood   \n",
       "\n",
       "                                          categories  \\\n",
       "0         [{'alias': 'grocery', 'title': 'Grocery'}]   \n",
       "1  [{'alias': 'grocery', 'title': 'Grocery'}, {'a...   \n",
       "2  [{'alias': 'grocery', 'title': 'Grocery'}, {'a...   \n",
       "3         [{'alias': 'grocery', 'title': 'Grocery'}]   \n",
       "4  [{'alias': 'grocery', 'title': 'Grocery'}, {'a...   \n",
       "\n",
       "                                         coordinates   display_phone  \\\n",
       "0    {'latitude': 34.07117, 'longitude': -118.37702}  (310) 248-2984   \n",
       "1  {'latitude': 34.1019384211826, 'longitude': -1...  (323) 993-9000   \n",
       "2   {'latitude': 34.06839, 'longitude': -118.290534}  (213) 480-1421   \n",
       "3  {'latitude': 34.1019076321175, 'longitude': -1...  (323) 644-5454   \n",
       "4      {'latitude': 34.1058, 'longitude': -118.3175}  (323) 464-7316   \n",
       "\n",
       "      distance                      id  \\\n",
       "0  5239.199663  P19c5XHvP_PgobUKACdpbg   \n",
       "1  4693.252609  AdtUPmg6q6mjoRIjl9WEsw   \n",
       "2  2940.305832  5TB-sI04loixGx57EDHGSA   \n",
       "3  4952.330462  z34WgagVeolWviR3WYXaOg   \n",
       "4  4939.126114  7jGz5oB7BWmTX2JL7FCqYQ   \n",
       "\n",
       "                                           image_url  is_closed  \\\n",
       "0  https://s3-media4.fl.yelpcdn.com/bphoto/ofDWUY...      False   \n",
       "1  https://s3-media4.fl.yelpcdn.com/bphoto/irpNnn...      False   \n",
       "2  https://s3-media3.fl.yelpcdn.com/bphoto/ESrMo6...      False   \n",
       "3  https://s3-media2.fl.yelpcdn.com/bphoto/V-x5DX...      False   \n",
       "4  https://s3-media3.fl.yelpcdn.com/bphoto/7mCV3E...      False   \n",
       "\n",
       "                                            location               name  \\\n",
       "0  {'address1': '8500 Burton Way', 'address2': ''...       Trader Joe's   \n",
       "1  {'address1': '5321 Hollywood Blvd', 'address2'...  Silom Supermarket   \n",
       "2  {'address1': '3410 W 3rd St', 'address2': None...             Ralphs   \n",
       "3  {'address1': '5001 Hollywood Blvd', 'address2'...      Arbat Grocery   \n",
       "4  {'address1': '5877 Franklin Ave', 'address2': ...    Gelson's Market   \n",
       "\n",
       "          phone price  rating  review_count transactions  \\\n",
       "0  +13102482984    $$     4.0           164           []   \n",
       "1  +13239939000     $     4.0            99           []   \n",
       "2  +12134801421    $$     2.5           153           []   \n",
       "3  +13236445454     $     4.5            25           []   \n",
       "4  +13234647316   $$$     3.5           211           []   \n",
       "\n",
       "                                                 url  \n",
       "0  https://www.yelp.com/biz/trader-joes-los-angel...  \n",
       "1  https://www.yelp.com/biz/silom-supermarket-los...  \n",
       "2  https://www.yelp.com/biz/ralphs-los-angeles-69...  \n",
       "3  https://www.yelp.com/biz/arbat-grocery-los-ang...  \n",
       "4  https://www.yelp.com/biz/gelsons-market-hollyw...  "
      ]
     },
     "execution_count": 66,
     "metadata": {},
     "output_type": "execute_result"
    }
   ],
   "source": [
    "url='https://api.yelp.com/v3/businesses/search'\n",
    "params = {'limit': 50,'term':'grocery', 'location':'Los Angeles', 'offset': 50}\n",
    "req = requests.get(url, params=params, headers=headers)\n",
    "parsed = json.loads(req.text)\n",
    "businesses1 = parsed[\"businesses\"]\n",
    "    \n",
    "df1 = pd.DataFrame(businesses1)\n",
    "df1.head()"
   ]
  },
  {
   "cell_type": "code",
   "execution_count": 67,
   "metadata": {},
   "outputs": [
    {
     "data": {
      "text/plain": [
       "(100, 16)"
      ]
     },
     "execution_count": 67,
     "metadata": {},
     "output_type": "execute_result"
    }
   ],
   "source": [
    "df = pd.concat([df, df1])\n",
    "df.shape"
   ]
  },
  {
   "cell_type": "code",
   "execution_count": 75,
   "metadata": {},
   "outputs": [
    {
     "data": {
      "text/plain": [
       "(50, 16)"
      ]
     },
     "execution_count": 75,
     "metadata": {},
     "output_type": "execute_result"
    }
   ],
   "source": [
    "url='https://api.yelp.com/v3/businesses/search'\n",
    "params = {'limit': 50,'term':'grocery', 'location':'Los Angeles', 'offset': 100}\n",
    "req = requests.get(url, params=params, headers=headers)\n",
    "parsed = json.loads(req.text)\n",
    "businesses2 = parsed[\"businesses\"]\n",
    "    \n",
    "df2 = pd.DataFrame(businesses2)\n",
    "df2.shape"
   ]
  },
  {
   "cell_type": "code",
   "execution_count": 77,
   "metadata": {},
   "outputs": [
    {
     "data": {
      "text/plain": [
       "(50, 16)"
      ]
     },
     "execution_count": 77,
     "metadata": {},
     "output_type": "execute_result"
    }
   ],
   "source": [
    "url='https://api.yelp.com/v3/businesses/search'\n",
    "params = {'limit': 50,'term':'grocery', 'location':'Los Angeles', 'offset': 150}\n",
    "req = requests.get(url, params=params, headers=headers)\n",
    "parsed = json.loads(req.text)\n",
    "businesses3 = parsed[\"businesses\"]\n",
    "    \n",
    "df3 = pd.DataFrame(businesses3)\n",
    "df3.shape"
   ]
  },
  {
   "cell_type": "code",
   "execution_count": 78,
   "metadata": {},
   "outputs": [
    {
     "data": {
      "text/plain": [
       "(50, 16)"
      ]
     },
     "execution_count": 78,
     "metadata": {},
     "output_type": "execute_result"
    }
   ],
   "source": [
    "url='https://api.yelp.com/v3/businesses/search'\n",
    "params = {'limit': 50,'term':'grocery', 'location':'Los Angeles', 'offset': 200}\n",
    "req = requests.get(url, params=params, headers=headers)\n",
    "parsed = json.loads(req.text)\n",
    "businesses4 = parsed[\"businesses\"]\n",
    "    \n",
    "df4 = pd.DataFrame(businesses4)\n",
    "df4.shape"
   ]
  },
  {
   "cell_type": "code",
   "execution_count": 79,
   "metadata": {},
   "outputs": [],
   "source": [
    "pd = pd.concat([df, df2, df3, df4])"
   ]
  },
  {
   "cell_type": "code",
   "execution_count": 80,
   "metadata": {},
   "outputs": [
    {
     "data": {
      "text/plain": [
       "(250, 16)"
      ]
     },
     "execution_count": 80,
     "metadata": {},
     "output_type": "execute_result"
    }
   ],
   "source": [
    "pd.shape"
   ]
  },
  {
   "cell_type": "code",
   "execution_count": 81,
   "metadata": {},
   "outputs": [
    {
     "data": {
      "text/plain": [
       "False    250\n",
       "dtype: int64"
      ]
     },
     "execution_count": 81,
     "metadata": {},
     "output_type": "execute_result"
    }
   ],
   "source": [
    "pd.duplicated(subset=\"id\").value_counts()"
   ]
  },
  {
   "cell_type": "code",
   "execution_count": null,
   "metadata": {},
   "outputs": [],
   "source": []
  }
 ],
 "metadata": {
  "kernelspec": {
   "display_name": "Python 3",
   "language": "python",
   "name": "python3"
  },
  "language_info": {
   "codemirror_mode": {
    "name": "ipython",
    "version": 3
   },
   "file_extension": ".py",
   "mimetype": "text/x-python",
   "name": "python",
   "nbconvert_exporter": "python",
   "pygments_lexer": "ipython3",
   "version": "3.7.3"
  }
 },
 "nbformat": 4,
 "nbformat_minor": 2
}
